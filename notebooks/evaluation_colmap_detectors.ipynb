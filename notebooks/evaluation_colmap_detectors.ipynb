{
 "cells": [
  {
   "cell_type": "code",
   "execution_count": 2,
   "metadata": {},
   "outputs": [],
   "source": [
    "import cv2\n",
    "import numpy as np\n",
    "from pathlib import Path\n",
    "from tqdm import tqdm\n",
    "import matplotlib.pyplot as plt\n",
    "\n",
    "from hfnet.datasets.colmap import Colmap\n",
    "from hfnet.evaluation.loaders import sift_loader, export_loader, fast_loader, harris_loader\n",
    "from hfnet.evaluation.keypoint_detectors import evaluate\n",
    "\n",
    "%load_ext autoreload\n",
    "%autoreload 2\n",
    "%matplotlib inline"
   ]
  },
  {
   "cell_type": "code",
   "execution_count": 3,
   "metadata": {},
   "outputs": [
    {
     "name": "stderr",
     "output_type": "stream",
     "text": [
      "[10/14/2018 23:17:23 INFO] Colmap sequence british_museum contains 50 pairs\n",
      "[10/14/2018 23:17:24 INFO] Colmap sequence florence_cathedral_side contains 50 pairs\n",
      "[10/14/2018 23:17:35 INFO] Colmap sequence lincoln_memorial_statue contains 50 pairs\n",
      "[10/14/2018 23:17:42 INFO] Colmap sequence london_bridge contains 50 pairs\n",
      "[10/14/2018 23:17:44 INFO] Colmap sequence milan_cathedral contains 50 pairs\n",
      "[10/14/2018 23:17:45 INFO] Colmap sequence mount_rushmore contains 50 pairs\n",
      "[10/14/2018 23:17:49 INFO] Colmap sequence piazza_san_marco contains 50 pairs\n",
      "[10/14/2018 23:17:50 INFO] Colmap sequence reichstag contains 50 pairs\n",
      "[10/14/2018 23:17:56 INFO] Colmap sequence sagrada_familia contains 50 pairs\n",
      "[10/14/2018 23:18:05 INFO] Colmap sequence st_pauls_cathedral contains 50 pairs\n",
      "[10/14/2018 23:18:07 INFO] Colmap sequence united_states_capitol contains 50 pairs\n"
     ]
    }
   ],
   "source": [
    "config = {\n",
    "    'sequences': ['british_museum', 'florence_cathedral_side', 'lincoln_memorial_statue', \n",
    "                  'london_bridge', 'milan_cathedral', 'mount_rushmore', 'piazza_san_marco',\n",
    "                  'reichstag', 'sagrada_familia', 'st_pauls_cathedral', 'united_states_capitol'],\n",
    "    'make_pairs': True, 'shuffle': True, 'pair_thresh': 0.4, 'max_num_pairs': 50\n",
    "}\n",
    "dataset = Colmap(**config)"
   ]
  },
  {
   "cell_type": "code",
   "execution_count": 27,
   "metadata": {},
   "outputs": [],
   "source": [
    "config = {\n",
    "    'id': 'sift_1000-kpts',\n",
    "    'predictor': sift_loader,\n",
    "    'num_features': 1000,\n",
    "    'do_nms': True,\n",
    "    'nms_thresh': 8,\n",
    "}"
   ]
  },
  {
   "cell_type": "code",
   "execution_count": 31,
   "metadata": {},
   "outputs": [],
   "source": [
    "config = {\n",
    "    'id': 'harris_1000-kpts',\n",
    "    'predictor': harris_loader,\n",
    "    'num_features': 1000,\n",
    "    'do_nms': True,\n",
    "    'nms_thresh': 4,\n",
    "}"
   ]
  },
  {
   "cell_type": "code",
   "execution_count": 6,
   "metadata": {},
   "outputs": [],
   "source": [
    "config = {\n",
    "    'id': 'superpoint_1000-kpts',\n",
    "    'experiment': 'super_point_pytorch/colmap_all',\n",
    "    'predictor': export_loader,\n",
    "    'num_features': 1000,\n",
    "    'do_nms': True,\n",
    "    'nms_thresh': 4,\n",
    "    'keypoint_refinement': False\n",
    "}"
   ]
  },
  {
   "cell_type": "code",
   "execution_count": 9,
   "metadata": {},
   "outputs": [],
   "source": [
    "config = {\n",
    "    'id': 'lfnet_1000-kpts',\n",
    "    'experiment': 'lfnet/colmap_all_kpts-1000',\n",
    "    'predictor': export_loader,\n",
    "    'num_features': 1000,\n",
    "    'do_nms': True,\n",
    "    'nms_thresh': 4,\n",
    "}"
   ]
  },
  {
   "cell_type": "code",
   "execution_count": null,
   "metadata": {},
   "outputs": [],
   "source": [
    "eval_config = {'correct_match_thresh': 3}\n",
    "config.update(eval_config)\n",
    "data_iter = dataset.get_test_set()\n",
    "metrics, precision, recall, scores = evaluate(data_iter, config, is_2d=False)\n",
    "print('> {}'.format(config['id']))\n",
    "for k, v in metrics.items():\n",
    "    print('{:<25} {:.3f}'.format(k, v))\n",
    "print(config)"
   ]
  },
  {
   "cell_type": "markdown",
   "metadata": {},
   "source": [
    "# K=1000 NMS=4"
   ]
  },
  {
   "cell_type": "code",
   "execution_count": 32,
   "metadata": {},
   "outputs": [
    {
     "name": "stderr",
     "output_type": "stream",
     "text": [
      "550it [03:14,  3.42it/s]"
     ]
    },
    {
     "name": "stdout",
     "output_type": "stream",
     "text": [
      "> harris_1000-kpts\n",
      "average_num_keypoints     980.197\n",
      "localization_error        1.456\n",
      "repeatability             0.511\n",
      "mAP                       0.309\n",
      "{'id': 'harris_1000-kpts', 'predictor': <function harris_loader at 0x2b57359508c8>, 'num_features': 1000, 'do_nms': True, 'nms_thresh': 4, 'correct_match_thresh': 3}\n"
     ]
    },
    {
     "name": "stderr",
     "output_type": "stream",
     "text": [
      "\n"
     ]
    }
   ],
   "source": []
  },
  {
   "cell_type": "code",
   "execution_count": 36,
   "metadata": {},
   "outputs": [
    {
     "name": "stderr",
     "output_type": "stream",
     "text": [
      "550it [01:50,  7.96it/s]"
     ]
    },
    {
     "name": "stdout",
     "output_type": "stream",
     "text": [
      "> superpoint_1000-kpts\n",
      "average_num_keypoints     828.634\n",
      "localization_error        1.459\n",
      "repeatability             0.508\n",
      "mAP                       0.328\n",
      "{'id': 'superpoint_1000-kpts', 'experiment': 'super_point_pytorch/colmap_all', 'predictor': <function export_loader at 0x2b5735950950>, 'num_features': 1000, 'do_nms': True, 'nms_thresh': 4, 'correct_match_thresh': 3}\n"
     ]
    },
    {
     "name": "stderr",
     "output_type": "stream",
     "text": [
      "\n"
     ]
    }
   ],
   "source": []
  },
  {
   "cell_type": "code",
   "execution_count": 10,
   "metadata": {},
   "outputs": [
    {
     "name": "stderr",
     "output_type": "stream",
     "text": [
      "550it [01:11, 13.84it/s]\n"
     ]
    },
    {
     "name": "stdout",
     "output_type": "stream",
     "text": [
      "> lfnet_1000-kpts\n",
      "average_num_keypoints     919.973\n",
      "localization_error        1.481\n",
      "repeatability             0.442\n",
      "mAP                       0.244\n",
      "{'id': 'lfnet_1000-kpts', 'experiment': 'lfnet/colmap_all_kpts-1000', 'predictor': <function export_loader at 0x2b0a62c37ae8>, 'num_features': 1000, 'do_nms': True, 'nms_thresh': 4, 'correct_match_thresh': 3}\n"
     ]
    }
   ],
   "source": []
  },
  {
   "cell_type": "markdown",
   "metadata": {},
   "source": [
    "# K=1000 NMS=8"
   ]
  },
  {
   "cell_type": "code",
   "execution_count": 22,
   "metadata": {},
   "outputs": [
    {
     "name": "stderr",
     "output_type": "stream",
     "text": [
      "550it [03:05,  3.50it/s]"
     ]
    },
    {
     "name": "stdout",
     "output_type": "stream",
     "text": [
      "> harris_1000-kpts\n",
      "average_num_keypoints     878.682\n",
      "localization_error        1.505\n",
      "repeatability             0.427\n",
      "mAP                       0.221\n",
      "{'id': 'harris_1000-kpts', 'predictor': <function harris_loader at 0x2b57359508c8>, 'num_features': 1000, 'do_nms': True, 'nms_thresh': 8, 'correct_match_thresh': 3}\n"
     ]
    },
    {
     "name": "stderr",
     "output_type": "stream",
     "text": [
      "\n"
     ]
    }
   ],
   "source": []
  },
  {
   "cell_type": "code",
   "execution_count": 20,
   "metadata": {
    "scrolled": true
   },
   "outputs": [
    {
     "name": "stderr",
     "output_type": "stream",
     "text": [
      "550it [01:32,  5.95it/s]"
     ]
    },
    {
     "name": "stdout",
     "output_type": "stream",
     "text": [
      "> superpoint_1000-kpts\n",
      "average_num_keypoints     686.533\n",
      "localization_error        1.464\n",
      "repeatability             0.475\n",
      "mAP                       0.282\n",
      "{'id': 'superpoint_1000-kpts', 'experiment': 'super_point_pytorch/colmap_all', 'predictor': <function export_loader at 0x2b5735950950>, 'num_features': 1000, 'do_nms': True, 'nms_thresh': 8, 'correct_match_thresh': 3}\n"
     ]
    },
    {
     "name": "stderr",
     "output_type": "stream",
     "text": [
      "\n"
     ]
    }
   ],
   "source": []
  },
  {
   "cell_type": "code",
   "execution_count": 38,
   "metadata": {},
   "outputs": [
    {
     "name": "stderr",
     "output_type": "stream",
     "text": [
      "550it [01:05, 14.30it/s]\n"
     ]
    },
    {
     "name": "stdout",
     "output_type": "stream",
     "text": [
      "> lfnet_1000-kpts\n",
      "average_num_keypoints     708.478\n",
      "localization_error        1.484\n",
      "repeatability             0.378\n",
      "mAP                       0.178\n",
      "{'id': 'lfnet_1000-kpts', 'experiment': 'lfnet/colmap_all_kpts-1000', 'predictor': <function export_loader at 0x2b5735950950>, 'num_features': 1000, 'do_nms': True, 'nms_thresh': 8, 'correct_match_thresh': 3}\n"
     ]
    }
   ],
   "source": []
  },
  {
   "cell_type": "markdown",
   "metadata": {},
   "source": [
    "# K=1000 Default"
   ]
  },
  {
   "cell_type": "code",
   "execution_count": 26,
   "metadata": {},
   "outputs": [
    {
     "name": "stderr",
     "output_type": "stream",
     "text": [
      "550it [03:24,  3.18it/s]"
     ]
    },
    {
     "name": "stdout",
     "output_type": "stream",
     "text": [
      "> sift_1000-kpts\n",
      "average_num_keypoints     1000.000\n",
      "localization_error        1.198\n",
      "repeatability             0.284\n",
      "mAP                       0.092\n",
      "{'id': 'sift_1000-kpts', 'predictor': <function sift_loader at 0x2b5735956f28>, 'num_features': 1000, 'do_nms': False, 'nms_thresh': 8, 'correct_match_thresh': 3}\n"
     ]
    },
    {
     "name": "stderr",
     "output_type": "stream",
     "text": [
      "\n"
     ]
    }
   ],
   "source": []
  },
  {
   "cell_type": "code",
   "execution_count": 24,
   "metadata": {},
   "outputs": [
    {
     "name": "stderr",
     "output_type": "stream",
     "text": [
      "550it [01:09, 14.00it/s]\n"
     ]
    },
    {
     "name": "stdout",
     "output_type": "stream",
     "text": [
      "> lfnet_1000-kpts\n",
      "average_num_keypoints     1000.000\n",
      "localization_error        1.455\n",
      "repeatability             0.448\n",
      "mAP                       0.251\n",
      "{'id': 'lfnet_1000-kpts', 'experiment': 'lfnet/colmap_all_kpts-1000', 'predictor': <function export_loader at 0x2b5735950950>, 'num_features': 1000, 'correct_match_thresh': 3, 'do_nms': False, 'nms_thresh': 8}\n"
     ]
    }
   ],
   "source": []
  }
 ],
 "metadata": {
  "kernelspec": {
   "display_name": "Python 3",
   "language": "python",
   "name": "python3"
  },
  "language_info": {
   "codemirror_mode": {
    "name": "ipython",
    "version": 3
   },
   "file_extension": ".py",
   "mimetype": "text/x-python",
   "name": "python",
   "nbconvert_exporter": "python",
   "pygments_lexer": "ipython3",
   "version": "3.6.1"
  }
 },
 "nbformat": 4,
 "nbformat_minor": 2
}
