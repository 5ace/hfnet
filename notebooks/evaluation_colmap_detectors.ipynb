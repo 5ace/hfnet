{
 "cells": [
  {
   "cell_type": "code",
   "execution_count": 1,
   "metadata": {},
   "outputs": [],
   "source": [
    "from hfnet.datasets.colmap import Colmap\n",
    "from hfnet.evaluation.loaders import sift_loader, export_loader, fast_loader, harris_loader\n",
    "from hfnet.evaluation.keypoint_detectors import evaluate\n",
    "from hfnet.utils import tools\n",
    "\n",
    "%load_ext autoreload\n",
    "%autoreload 2"
   ]
  },
  {
   "cell_type": "code",
   "execution_count": 2,
   "metadata": {},
   "outputs": [
    {
     "name": "stderr",
     "output_type": "stream",
     "text": [
      "[12/02/2018 19:41:55 INFO] Colmap sequence british_museum contains 50 pairs\n",
      "[12/02/2018 19:41:57 INFO] Colmap sequence florence_cathedral_side contains 50 pairs\n",
      "[12/02/2018 19:42:08 INFO] Colmap sequence lincoln_memorial_statue contains 50 pairs\n",
      "[12/02/2018 19:42:17 INFO] Colmap sequence london_bridge contains 50 pairs\n",
      "[12/02/2018 19:42:18 INFO] Colmap sequence milan_cathedral contains 50 pairs\n",
      "[12/02/2018 19:42:20 INFO] Colmap sequence mount_rushmore contains 50 pairs\n",
      "[12/02/2018 19:42:24 INFO] Colmap sequence piazza_san_marco contains 50 pairs\n",
      "[12/02/2018 19:42:25 INFO] Colmap sequence reichstag contains 50 pairs\n",
      "[12/02/2018 19:42:31 INFO] Colmap sequence sagrada_familia contains 50 pairs\n",
      "[12/02/2018 19:42:40 INFO] Colmap sequence st_pauls_cathedral contains 50 pairs\n",
      "[12/02/2018 19:42:42 INFO] Colmap sequence united_states_capitol contains 50 pairs\n"
     ]
    }
   ],
   "source": [
    "config = {\n",
    "    'sequences': ['british_museum', 'florence_cathedral_side', 'lincoln_memorial_statue', \n",
    "                  'london_bridge', 'milan_cathedral', 'mount_rushmore', 'piazza_san_marco',\n",
    "                  'reichstag', 'sagrada_familia', 'st_pauls_cathedral', 'united_states_capitol'],\n",
    "    'make_pairs': True, 'shuffle': True, 'pair_thresh': 0.4, 'max_num_pairs': 50\n",
    "}\n",
    "dataset = Colmap(**config)"
   ]
  },
  {
   "cell_type": "code",
   "execution_count": 11,
   "metadata": {},
   "outputs": [],
   "source": [
    "all_configs = {\n",
    "    'sift': {\n",
    "        'predictor': sift_loader,\n",
    "        'do_nms': False,\n",
    "        'nms_thresh': 8,\n",
    "    },\n",
    "    'harris': {\n",
    "        'predictor': harris_loader,\n",
    "        'do_nms': True,\n",
    "        'nms_thresh': 8,\n",
    "    },\n",
    "    'fast': {\n",
    "        'predictor': fast_loader,\n",
    "        'do_nms': True,\n",
    "        'nms_thresh': 8,\n",
    "    },\n",
    "    'superpoint': {\n",
    "        'experiment': 'super_point_pytorch/colmap',\n",
    "        'predictor': export_loader,\n",
    "        'do_nms': True,\n",
    "        'nms_thresh': 8,\n",
    "        'remove_borders': 4,\n",
    "        'has_descriptors': False\n",
    "    },\n",
    "    'lfnet': {\n",
    "        'experiment': 'lfnet/colmap_all_kpts-1000',\n",
    "        'predictor': export_loader,\n",
    "        'do_nms': False,\n",
    "        'nms_thresh': 8,\n",
    "    },\n",
    "}\n",
    "eval_config = {'correct_match_thresh': 3, 'num_features': 1000}"
   ]
  },
  {
   "cell_type": "code",
   "execution_count": null,
   "metadata": {},
   "outputs": [],
   "source": [
    "methods = ['sift', 'harris', 'fast', 'superpoint', 'lfnet']\n",
    "configs = {m: all_configs[m] for m in methods}\n",
    "for method, config in configs.items():\n",
    "    config = tools.dict_update(config, eval_config)\n",
    "    data_iter = dataset.get_test_set()\n",
    "    metrics, _, _, _ = evaluate(data_iter, config, is_2d=False)\n",
    "    \n",
    "    print('> {}'.format(method))\n",
    "    for k, v in metrics.items():\n",
    "        print('{:<25} {:.3f}'.format(k, v))\n",
    "    print(config)"
   ]
  },
  {
   "cell_type": "code",
   "execution_count": 12,
   "metadata": {},
   "outputs": [
    {
     "name": "stderr",
     "output_type": "stream",
     "text": [
      "550it [03:55,  2.88it/s]\n",
      "0it [00:00, ?it/s]"
     ]
    },
    {
     "name": "stdout",
     "output_type": "stream",
     "text": [
      "> sift\n",
      "average_num_keypoints     1000.000\n",
      "localization_error        1.198\n",
      "repeatability             0.284\n",
      "mAP                       0.092\n",
      "{'predictor': <function sift_loader at 0x2b967248ed08>, 'do_nms': False, 'nms_thresh': 8, 'correct_match_thresh': 3, 'num_features': 1000}\n"
     ]
    },
    {
     "name": "stderr",
     "output_type": "stream",
     "text": [
      "550it [03:31,  3.67it/s]\n",
      "0it [00:00, ?it/s]"
     ]
    },
    {
     "name": "stdout",
     "output_type": "stream",
     "text": [
      "> harris\n",
      "average_num_keypoints     878.682\n",
      "localization_error        1.505\n",
      "repeatability             0.427\n",
      "mAP                       0.221\n",
      "{'predictor': <function harris_loader at 0x2b96724a8840>, 'do_nms': True, 'nms_thresh': 8, 'correct_match_thresh': 3, 'num_features': 1000}\n"
     ]
    },
    {
     "name": "stderr",
     "output_type": "stream",
     "text": [
      "550it [01:42,  8.90it/s]\n",
      "0it [00:00, ?it/s]"
     ]
    },
    {
     "name": "stdout",
     "output_type": "stream",
     "text": [
      "> fast\n",
      "average_num_keypoints     860.061\n",
      "localization_error        1.450\n",
      "repeatability             0.337\n",
      "mAP                       0.147\n",
      "{'predictor': <function fast_loader at 0x2b96724a87b8>, 'do_nms': True, 'nms_thresh': 8, 'correct_match_thresh': 3, 'num_features': 1000}\n"
     ]
    },
    {
     "name": "stderr",
     "output_type": "stream",
     "text": [
      "550it [02:35,  5.39it/s]\n",
      "0it [00:00, ?it/s]"
     ]
    },
    {
     "name": "stdout",
     "output_type": "stream",
     "text": [
      "> superpoint\n",
      "average_num_keypoints     686.533\n",
      "localization_error        1.464\n",
      "repeatability             0.475\n",
      "mAP                       0.281\n",
      "{'experiment': 'super_point_pytorch/colmap', 'predictor': <function export_loader at 0x2b96724a88c8>, 'do_nms': True, 'nms_thresh': 8, 'remove_borders': 4, 'has_descriptors': False, 'correct_match_thresh': 3, 'num_features': 1000}\n"
     ]
    },
    {
     "name": "stderr",
     "output_type": "stream",
     "text": [
      "550it [01:46, 11.00it/s]\n"
     ]
    },
    {
     "name": "stdout",
     "output_type": "stream",
     "text": [
      "> lfnet\n",
      "average_num_keypoints     1000.000\n",
      "localization_error        1.455\n",
      "repeatability             0.448\n",
      "mAP                       0.251\n",
      "{'experiment': 'lfnet/colmap_all_kpts-1000', 'predictor': <function export_loader at 0x2b96724a88c8>, 'do_nms': False, 'nms_thresh': 8, 'correct_match_thresh': 3, 'num_features': 1000}\n"
     ]
    }
   ],
   "source": [
    "# NMS=8, N=1000"
   ]
  },
  {
   "cell_type": "code",
   "execution_count": 10,
   "metadata": {
    "scrolled": false
   },
   "outputs": [
    {
     "name": "stderr",
     "output_type": "stream",
     "text": [
      "550it [03:26,  3.25it/s]\n",
      "0it [00:00, ?it/s]"
     ]
    },
    {
     "name": "stdout",
     "output_type": "stream",
     "text": [
      "> sift\n",
      "average_num_keypoints     1000.000\n",
      "localization_error        1.198\n",
      "repeatability             0.284\n",
      "mAP                       0.092\n",
      "{'predictor': <function sift_loader at 0x2b967248ed08>, 'do_nms': False, 'nms_thresh': 8, 'correct_match_thresh': 3, 'num_features': 1000}\n"
     ]
    },
    {
     "name": "stderr",
     "output_type": "stream",
     "text": [
      "550it [03:34,  3.82it/s]\n",
      "0it [00:00, ?it/s]"
     ]
    },
    {
     "name": "stdout",
     "output_type": "stream",
     "text": [
      "> harris\n",
      "average_num_keypoints     980.197\n",
      "localization_error        1.456\n",
      "repeatability             0.511\n",
      "mAP                       0.308\n",
      "{'predictor': <function harris_loader at 0x2b96724a8840>, 'do_nms': True, 'nms_thresh': 4, 'correct_match_thresh': 3, 'num_features': 1000}\n"
     ]
    },
    {
     "name": "stderr",
     "output_type": "stream",
     "text": [
      "550it [02:30,  9.00it/s]\n",
      "0it [00:00, ?it/s]"
     ]
    },
    {
     "name": "stdout",
     "output_type": "stream",
     "text": [
      "> fast\n",
      "average_num_keypoints     975.467\n",
      "localization_error        1.427\n",
      "repeatability             0.451\n",
      "mAP                       0.248\n",
      "{'predictor': <function fast_loader at 0x2b96724a87b8>, 'do_nms': True, 'nms_thresh': 4, 'correct_match_thresh': 3, 'num_features': 1000}\n"
     ]
    },
    {
     "name": "stderr",
     "output_type": "stream",
     "text": [
      "550it [02:56,  7.64it/s]\n",
      "0it [00:00, ?it/s]"
     ]
    },
    {
     "name": "stdout",
     "output_type": "stream",
     "text": [
      "> superpoint\n",
      "average_num_keypoints     828.634\n",
      "localization_error        1.459\n",
      "repeatability             0.508\n",
      "mAP                       0.328\n",
      "{'experiment': 'super_point_pytorch/colmap', 'predictor': <function export_loader at 0x2b96724a88c8>, 'do_nms': True, 'nms_thresh': 4, 'remove_borders': 4, 'has_descriptors': False, 'correct_match_thresh': 3, 'num_features': 1000}\n"
     ]
    },
    {
     "name": "stderr",
     "output_type": "stream",
     "text": [
      "550it [01:38,  5.58it/s]\n"
     ]
    },
    {
     "name": "stdout",
     "output_type": "stream",
     "text": [
      "> lfnet\n",
      "average_num_keypoints     1000.000\n",
      "localization_error        1.455\n",
      "repeatability             0.448\n",
      "mAP                       0.251\n",
      "{'experiment': 'lfnet/colmap_all_kpts-1000', 'predictor': <function export_loader at 0x2b96724a88c8>, 'do_nms': False, 'nms_thresh': 4, 'correct_match_thresh': 3, 'num_features': 1000}\n"
     ]
    }
   ],
   "source": [
    "# NMS=4, N=1000"
   ]
  }
 ],
 "metadata": {
  "kernelspec": {
   "display_name": "Python 3",
   "language": "python",
   "name": "python3"
  },
  "language_info": {
   "codemirror_mode": {
    "name": "ipython",
    "version": 3
   },
   "file_extension": ".py",
   "mimetype": "text/x-python",
   "name": "python",
   "nbconvert_exporter": "python",
   "pygments_lexer": "ipython3",
   "version": "3.6.1"
  }
 },
 "nbformat": 4,
 "nbformat_minor": 2
}
