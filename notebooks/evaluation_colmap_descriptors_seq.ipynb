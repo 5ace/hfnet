{
 "cells": [
  {
   "cell_type": "code",
   "execution_count": 1,
   "metadata": {},
   "outputs": [],
   "source": [
    "import numpy as np\n",
    "from pathlib import Path\n",
    "from tqdm import tqdm\n",
    "import matplotlib.pyplot as plt\n",
    "\n",
    "from hfnet.datasets.colmap import Colmap\n",
    "from hfnet.evaluation.loaders import sift_loader, export_loader, fast_loader, harris_loader\n",
    "from hfnet.evaluation.local_descriptors import evaluate\n",
    "from hfnet.utils import tools\n",
    "\n",
    "from utils import plot_images\n",
    "\n",
    "%load_ext autoreload\n",
    "%autoreload 2\n",
    "%matplotlib inline"
   ]
  },
  {
   "cell_type": "code",
   "execution_count": 2,
   "metadata": {},
   "outputs": [],
   "source": [
    "sequences = ['british_museum', 'florence_cathedral_side', 'lincoln_memorial_statue', \n",
    "             'london_bridge', 'milan_cathedral', 'mount_rushmore', 'piazza_san_marco',\n",
    "             'reichstag', 'sagrada_familia', 'st_pauls_cathedral', 'united_states_capitol']"
   ]
  },
  {
   "cell_type": "code",
   "execution_count": 3,
   "metadata": {},
   "outputs": [],
   "source": [
    "data_config = {\n",
    "    'make_pairs': True, 'shuffle': True, 'pair_thresh': 0.4, 'max_num_pairs': 200\n",
    "}\n",
    "methods = {\n",
    "    'sift': {\n",
    "        'predictor': sift_loader,\n",
    "        'root': False,\n",
    "        'num_features': 1000,\n",
    "        'do_ratio_test': True,\n",
    "    },\n",
    "    'lfnet': {\n",
    "        'experiment': 'lfnet/colmap_all_kpts-1000',\n",
    "        'predictor': export_loader,\n",
    "        'num_features': 1000,\n",
    "        'do_ratio_test': False,\n",
    "    },\n",
    "}\n",
    "eval_config = {\n",
    "    'correct_match_thresh': 5,\n",
    "    'correct_trans_thresh': 1,\n",
    "    'correct_rot_thresh': 1,\n",
    "}"
   ]
  },
  {
   "cell_type": "code",
   "execution_count": 4,
   "metadata": {},
   "outputs": [
    {
     "name": "stderr",
     "output_type": "stream",
     "text": [
      "[10/14/2018 22:33:00 INFO] Colmap sequence british_museum contains 200 pairs\n",
      "200it [01:08,  2.64it/s]\n",
      "200it [00:23, 11.60it/s]\n",
      "[10/14/2018 22:34:35 INFO] Colmap sequence florence_cathedral_side contains 200 pairs\n",
      "200it [01:19,  2.87it/s]\n",
      "200it [00:26, 11.33it/s]\n",
      "[10/14/2018 22:36:32 INFO] Colmap sequence lincoln_memorial_statue contains 200 pairs\n",
      "200it [01:17,  3.07it/s]\n",
      "200it [00:31,  9.43it/s]\n",
      "[10/14/2018 22:38:30 INFO] Colmap sequence london_bridge contains 200 pairs\n",
      "200it [01:13,  3.21it/s]\n",
      "200it [00:28, 10.06it/s]\n",
      "[10/14/2018 22:40:15 INFO] Colmap sequence milan_cathedral contains 200 pairs\n",
      "200it [01:14,  3.04it/s]\n",
      "200it [00:25, 10.39it/s]\n",
      "[10/14/2018 22:41:59 INFO] Colmap sequence mount_rushmore contains 200 pairs\n",
      "200it [01:13,  3.09it/s]\n",
      "200it [00:26, 11.62it/s]\n",
      "[10/14/2018 22:43:44 INFO] Colmap sequence piazza_san_marco contains 200 pairs\n",
      "200it [01:21,  2.73it/s]\n",
      "200it [00:28, 10.41it/s]\n",
      "[10/14/2018 22:45:36 INFO] Colmap sequence reichstag contains 200 pairs\n",
      "200it [01:12,  3.48it/s]\n",
      "200it [00:27, 11.72it/s]\n",
      "[10/14/2018 22:47:24 INFO] Colmap sequence sagrada_familia contains 200 pairs\n",
      "200it [01:18,  2.58it/s]\n",
      "200it [00:34,  5.74it/s]\n",
      "[10/14/2018 22:49:27 INFO] Colmap sequence st_pauls_cathedral contains 200 pairs\n",
      "200it [01:16,  2.85it/s]\n",
      "200it [00:29,  6.89it/s]\n",
      "[10/14/2018 22:51:16 INFO] Colmap sequence united_states_capitol contains 200 pairs\n",
      "200it [01:15,  2.95it/s]\n",
      "200it [00:27, 10.91it/s]"
     ]
    },
    {
     "name": "stdout",
     "output_type": "stream",
     "text": [
      "       sequences         average_num_keypoints        correctness            matching_score               mAP           \n",
      "                            sift       lfnet        sift       lfnet        sift       lfnet        sift       lfnet    \n",
      "     british_museum       1000.000    1000.000     0.430       0.445       0.278       0.352       0.322       0.206    \n",
      "florence_cathedral_side   1000.000    1000.000     0.830       0.910       0.189       0.261       0.264       0.215    \n",
      "lincoln_memorial_statue   1000.000    1000.000     0.785       0.555       0.178       0.134       0.200       0.030    \n",
      "     london_bridge        1000.000    1000.000     0.760       0.745       0.168       0.212       0.175       0.071    \n",
      "    milan_cathedral       1000.000    1000.000     0.540       0.490       0.166       0.244       0.222       0.151    \n",
      "     mount_rushmore       1000.000    1000.000     0.890       0.835       0.223       0.240       0.352       0.109    \n",
      "    piazza_san_marco      1000.000    1000.000     0.455       0.550       0.113       0.132       0.058       0.035    \n",
      "       reichstag          1000.000    1000.000     0.740       0.760       0.187       0.235       0.190       0.107    \n",
      "    sagrada_familia       1000.000    1000.000     0.770       0.670       0.187       0.182       0.254       0.087    \n",
      "   st_pauls_cathedral     1000.000    1000.000     0.680       0.685       0.164       0.203       0.183       0.083    \n",
      " united_states_capitol    1000.000    1000.000     0.675       0.440       0.124       0.099       0.096       0.020    \n"
     ]
    },
    {
     "name": "stderr",
     "output_type": "stream",
     "text": [
      "\n"
     ]
    }
   ],
   "source": [
    "all_metrics = []\n",
    "for seq in sequences:\n",
    "    data_config['sequences'] = seq\n",
    "    dataset = Colmap(**data_config)\n",
    "    seq_metrics = {}\n",
    "    #print(f'--- {seq}')\n",
    "    for method, config in methods.items():\n",
    "        config = tools.dict_update(config, eval_config)\n",
    "        data_iter = dataset.get_test_set()\n",
    "        metrics, _, _, _ = evaluate(data_iter, config, is_2d=False)\n",
    "        seq_metrics[method] = metrics\n",
    "    all_metrics.append(seq_metrics)\n",
    "    \n",
    "names = list(metrics.keys())\n",
    "w = 24\n",
    "pad = w//len(methods)\n",
    "s1 = f'{\"sequences\":^{w}}'\n",
    "s2 = f'{\"\":^{w}}'\n",
    "for n in names:\n",
    "    s1 += f'{n:^{w}.{w}}'\n",
    "    for method in methods:\n",
    "        s2 += f'{method:^{pad}}'\n",
    "print(s1)\n",
    "print(s2)\n",
    "    \n",
    "for seq, met in zip(sequences, all_metrics):\n",
    "    s = f'{seq:^{w}.{w}}'\n",
    "    for n in names:\n",
    "        for method in methods:\n",
    "            s += f'{met[method][n]:^{pad}.3f}'\n",
    "    print(s)\n",
    "\n",
    "s = f'{\"average\":^{w}.{w}}'\n",
    "for n in names:\n",
    "    for method in methods:\n",
    "        avg = np.mean([met[method][n] for met in all_metrics])\n",
    "        s += f'{avg:^{pad}.3f}'\n",
    "print(s)"
   ]
  },
  {
   "cell_type": "code",
   "execution_count": 9,
   "metadata": {},
   "outputs": [
    {
     "name": "stdout",
     "output_type": "stream",
     "text": [
      "        average           1000.000    1000.000     0.687       0.644       0.180       0.208       0.211       0.101    \n"
     ]
    }
   ],
   "source": []
  }
 ],
 "metadata": {
  "kernelspec": {
   "display_name": "Python 3",
   "language": "python",
   "name": "python3"
  },
  "language_info": {
   "codemirror_mode": {
    "name": "ipython",
    "version": 3
   },
   "file_extension": ".py",
   "mimetype": "text/x-python",
   "name": "python",
   "nbconvert_exporter": "python",
   "pygments_lexer": "ipython3",
   "version": "3.6.1"
  }
 },
 "nbformat": 4,
 "nbformat_minor": 2
}
