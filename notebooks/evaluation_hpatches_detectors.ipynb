{
 "cells": [
  {
   "cell_type": "code",
   "execution_count": 1,
   "metadata": {},
   "outputs": [],
   "source": [
    "import cv2\n",
    "import numpy as np\n",
    "from pathlib import Path\n",
    "from tqdm import tqdm\n",
    "import matplotlib.pyplot as plt\n",
    "\n",
    "from hfnet.datasets.hpatches import Hpatches\n",
    "from hfnet.evaluation.loaders import sift_loader, export_loader, fast_loader, harris_loader\n",
    "from hfnet.evaluation.keypoint_detectors import evaluate\n",
    "\n",
    "%load_ext autoreload\n",
    "%autoreload 2\n",
    "%matplotlib inline"
   ]
  },
  {
   "cell_type": "code",
   "execution_count": 2,
   "metadata": {},
   "outputs": [],
   "source": [
    "data_config = {'make_pairs': True, 'shuffle': True}\n",
    "dataset = Hpatches(**data_config)"
   ]
  },
  {
   "cell_type": "code",
   "execution_count": 20,
   "metadata": {},
   "outputs": [],
   "source": [
    "config = {\n",
    "    'id': 'sift_300-kpts',\n",
    "    'predictor': sift_loader,\n",
    "    'num_features': 300,\n",
    "    'do_nms': True,\n",
    "    'nms_thresh': 8,\n",
    "    'correct_match_thresh': 3,\n",
    "}"
   ]
  },
  {
   "cell_type": "code",
   "execution_count": 12,
   "metadata": {},
   "outputs": [],
   "source": [
    "config = {\n",
    "    'id': 'fast_300-kpts',\n",
    "    'predictor': fast_loader,\n",
    "    'num_features': 300,\n",
    "    'do_nms': True,\n",
    "    'nms_thresh': 8,\n",
    "    'correct_match_thresh': 3,\n",
    "}"
   ]
  },
  {
   "cell_type": "code",
   "execution_count": 10,
   "metadata": {},
   "outputs": [],
   "source": [
    "config = {\n",
    "    'id': 'harris_300-kpts',\n",
    "    'predictor': harris_loader,\n",
    "    'num_features': 300,\n",
    "    'do_nms': True,\n",
    "    'nms_thresh': 8,\n",
    "    'correct_match_thresh': 3,\n",
    "}"
   ]
  },
  {
   "cell_type": "code",
   "execution_count": 14,
   "metadata": {},
   "outputs": [],
   "source": [
    "config = {\n",
    "    'id': 'superpoint_300-kpts',\n",
    "    'experiment': 'super_point_pytorch/hpatches',\n",
    "    'predictor': export_loader,\n",
    "    'num_features': 300,\n",
    "    'do_nms': True,\n",
    "    'nms_thresh': 8,\n",
    "    'remove_borders': 4,\n",
    "    'correct_match_thresh': 3,\n",
    "}"
   ]
  },
  {
   "cell_type": "code",
   "execution_count": 16,
   "metadata": {},
   "outputs": [],
   "source": [
    "config = {\n",
    "    'id': 'lfnet_300-kpts',\n",
    "    'experiment': 'lfnet/hpatches_kpts-500',\n",
    "    'predictor': export_loader,\n",
    "    'num_features': 300,\n",
    "    'correct_match_thresh': 3,\n",
    "}"
   ]
  },
  {
   "cell_type": "markdown",
   "metadata": {},
   "source": [
    "# Metrics"
   ]
  },
  {
   "cell_type": "code",
   "execution_count": null,
   "metadata": {},
   "outputs": [],
   "source": [
    "data_iter = dataset.get_test_set()\n",
    "metrics, precision, recall, scores = evaluate(data_iter, config)\n",
    "print('> {}'.format(config['id']))\n",
    "for k, v in metrics.items():\n",
    "    print('{:<25} {:.3f}'.format(k, v))\n",
    "print(config)"
   ]
  },
  {
   "cell_type": "markdown",
   "metadata": {},
   "source": [
    "## NMS=8"
   ]
  },
  {
   "cell_type": "code",
   "execution_count": 11,
   "metadata": {},
   "outputs": [
    {
     "name": "stderr",
     "output_type": "stream",
     "text": [
      "580it [01:33,  6.20it/s]"
     ]
    },
    {
     "name": "stdout",
     "output_type": "stream",
     "text": [
      "> harris_300-kpts\n",
      "average_num_keypoints     239.023\n",
      "localization_error        1.153\n",
      "repeatability             0.464\n",
      "mAP                       0.267\n",
      "{'id': 'harris_300-kpts', 'predictor': <function harris_loader at 0x2b565c295378>, 'num_features': 300, 'do_nms': True, 'nms_thresh': 8, 'correct_match_thresh': 3}\n"
     ]
    },
    {
     "name": "stderr",
     "output_type": "stream",
     "text": [
      "\n"
     ]
    }
   ],
   "source": []
  },
  {
   "cell_type": "code",
   "execution_count": 13,
   "metadata": {},
   "outputs": [
    {
     "name": "stderr",
     "output_type": "stream",
     "text": [
      "580it [01:17,  7.46it/s]"
     ]
    },
    {
     "name": "stdout",
     "output_type": "stream",
     "text": [
      "> fast_300-kpts\n",
      "average_num_keypoints     298.618\n",
      "localization_error        1.106\n",
      "repeatability             0.408\n",
      "mAP                       0.196\n",
      "{'id': 'fast_300-kpts', 'predictor': <function fast_loader at 0x2b565c2952f0>, 'num_features': 300, 'do_nms': True, 'nms_thresh': 8, 'correct_match_thresh': 3}\n"
     ]
    },
    {
     "name": "stderr",
     "output_type": "stream",
     "text": [
      "\n"
     ]
    }
   ],
   "source": []
  },
  {
   "cell_type": "code",
   "execution_count": 15,
   "metadata": {
    "scrolled": true
   },
   "outputs": [
    {
     "name": "stderr",
     "output_type": "stream",
     "text": [
      "580it [01:30,  6.41it/s]\n"
     ]
    },
    {
     "name": "stdout",
     "output_type": "stream",
     "text": [
      "> superpoint_300-kpts\n",
      "average_num_keypoints     296.654\n",
      "localization_error        1.047\n",
      "repeatability             0.489\n",
      "mAP                       0.269\n",
      "{'id': 'superpoint_300-kpts', 'experiment': 'super_point_pytorch/hpatches', 'predictor': <function export_loader at 0x2b565c295400>, 'num_features': 300, 'do_nms': True, 'nms_thresh': 8, 'remove_borders': 4, 'correct_match_thresh': 3}\n"
     ]
    }
   ],
   "source": []
  },
  {
   "cell_type": "code",
   "execution_count": 21,
   "metadata": {},
   "outputs": [
    {
     "name": "stderr",
     "output_type": "stream",
     "text": [
      "580it [03:03,  3.72it/s]"
     ]
    },
    {
     "name": "stdout",
     "output_type": "stream",
     "text": [
      "> sift_300-kpts\n",
      "average_num_keypoints     299.966\n",
      "localization_error        1.041\n",
      "repeatability             0.365\n",
      "mAP                       0.168\n",
      "{'id': 'sift_300-kpts', 'predictor': <function sift_loader at 0x2b565c285a60>, 'num_features': 300, 'do_nms': True, 'nms_thresh': 8, 'correct_match_thresh': 3}\n"
     ]
    },
    {
     "name": "stderr",
     "output_type": "stream",
     "text": [
      "\n"
     ]
    }
   ],
   "source": []
  },
  {
   "cell_type": "markdown",
   "metadata": {},
   "source": [
    "## NMS=4"
   ]
  },
  {
   "cell_type": "code",
   "execution_count": 38,
   "metadata": {},
   "outputs": [
    {
     "name": "stderr",
     "output_type": "stream",
     "text": [
      "580it [01:29,  6.46it/s]"
     ]
    },
    {
     "name": "stdout",
     "output_type": "stream",
     "text": [
      "> harris_300-kpts\n",
      "average_num_keypoints     260.684\n",
      "localization_error        1.176\n",
      "repeatability             0.531\n",
      "mAP                       0.356\n",
      "{'id': 'harris_300-kpts', 'predictor': <function harris_loader at 0x2b934036af28>, 'num_features': 300, 'do_nms': True, 'correct_match_thresh': 3}\n"
     ]
    },
    {
     "name": "stderr",
     "output_type": "stream",
     "text": [
      "\n"
     ]
    }
   ],
   "source": []
  },
  {
   "cell_type": "code",
   "execution_count": 36,
   "metadata": {},
   "outputs": [
    {
     "name": "stderr",
     "output_type": "stream",
     "text": [
      "580it [01:18,  7.40it/s]"
     ]
    },
    {
     "name": "stdout",
     "output_type": "stream",
     "text": [
      "> fast_300-kpts\n",
      "average_num_keypoints     299.851\n",
      "localization_error        1.116\n",
      "repeatability             0.477\n",
      "mAP                       0.268\n",
      "{'id': 'fast_300-kpts', 'predictor': <function fast_loader at 0x2b934036aea0>, 'num_features': 300, 'do_nms': True, 'correct_match_thresh': 3}\n"
     ]
    },
    {
     "name": "stderr",
     "output_type": "stream",
     "text": [
      "\n"
     ]
    }
   ],
   "source": []
  },
  {
   "cell_type": "code",
   "execution_count": 41,
   "metadata": {},
   "outputs": [
    {
     "name": "stderr",
     "output_type": "stream",
     "text": [
      "580it [01:39, 11.22it/s]\n"
     ]
    },
    {
     "name": "stdout",
     "output_type": "stream",
     "text": [
      "> superpoint_300-kpts\n",
      "average_num_keypoints     298.055\n",
      "localization_error        1.041\n",
      "repeatability             0.496\n",
      "mAP                       0.276\n",
      "{'id': 'superpoint_300-kpts', 'experiment': 'super_point_pytorch/hpatches', 'predictor': <function export_loader at 0x2b9340379048>, 'num_features': 300, 'do_nms': True, 'nms_thresh': 4, 'remove_borders': 4, 'correct_match_thresh': 3}\n"
     ]
    }
   ],
   "source": []
  },
  {
   "cell_type": "code",
   "execution_count": 6,
   "metadata": {
    "scrolled": true
   },
   "outputs": [
    {
     "name": "stderr",
     "output_type": "stream",
     "text": [
      "580it [03:07,  3.59it/s]"
     ]
    },
    {
     "name": "stdout",
     "output_type": "stream",
     "text": [
      "> sift_300-kpts\n",
      "average_num_keypoints     300.000\n",
      "localization_error        1.030\n",
      "repeatability             0.420\n",
      "mAP                       0.212\n",
      "{'id': 'sift_300-kpts', 'predictor': <function sift_loader at 0x2b565c285a60>, 'num_features': 300, 'do_nms': True, 'nms_thresh': 4, 'correct_match_thresh': 3}\n"
     ]
    },
    {
     "name": "stderr",
     "output_type": "stream",
     "text": [
      "\n"
     ]
    }
   ],
   "source": []
  },
  {
   "cell_type": "markdown",
   "metadata": {},
   "source": [
    "## Default"
   ]
  },
  {
   "cell_type": "code",
   "execution_count": 34,
   "metadata": {},
   "outputs": [
    {
     "name": "stderr",
     "output_type": "stream",
     "text": [
      "580it [00:59,  9.73it/s]\n"
     ]
    },
    {
     "name": "stdout",
     "output_type": "stream",
     "text": [
      "> lfnet_300-kpts\n",
      "average_num_keypoints     300.000\n",
      "localization_error        1.143\n",
      "repeatability             0.466\n",
      "mAP                       0.277\n",
      "{'id': 'lfnet_300-kpts', 'experiment': 'lfnet/hpatches_kpts-500', 'predictor': <function export_loader at 0x2b9340379048>, 'num_features': 300, 'correct_match_thresh': 3}\n"
     ]
    }
   ],
   "source": []
  },
  {
   "cell_type": "code",
   "execution_count": 9,
   "metadata": {
    "scrolled": false
   },
   "outputs": [
    {
     "name": "stderr",
     "output_type": "stream",
     "text": [
      "580it [03:01,  4.19it/s]"
     ]
    },
    {
     "name": "stdout",
     "output_type": "stream",
     "text": [
      "> sift_300-kpts_no-nms\n",
      "average_num_keypoints     300.000\n",
      "localization_error        0.997\n",
      "repeatability             0.438\n",
      "mAP                       0.225\n",
      "{'id': 'sift_300-kpts_no-nms', 'predictor': <function sift_loader at 0x2b565c285a60>, 'num_features': 300, 'do_nms': False, 'correct_match_thresh': 3}\n"
     ]
    },
    {
     "name": "stderr",
     "output_type": "stream",
     "text": [
      "\n"
     ]
    }
   ],
   "source": []
  },
  {
   "cell_type": "markdown",
   "metadata": {},
   "source": [
    "# PR Curves"
   ]
  },
  {
   "cell_type": "code",
   "execution_count": null,
   "metadata": {},
   "outputs": [],
   "source": [
    "plt.figure(dpi=100)\n",
    "plt.plot(recall, precision);\n",
    "plt.xlabel('Recall'), plt.ylabel('Precision'); plt.title(config['id']);"
   ]
  },
  {
   "cell_type": "code",
   "execution_count": 42,
   "metadata": {},
   "outputs": [
    {
     "data": {
      "image/png": "[encoded data removed]",
      "text/plain": [
       "<matplotlib.figure.Figure at 0x2b9348b886d8>"
      ]
     },
     "metadata": {
      "needs_background": "light"
     },
     "output_type": "display_data"
    }
   ],
   "source": []
  },
  {
   "cell_type": "code",
   "execution_count": 39,
   "metadata": {},
   "outputs": [
    {
     "data": {
      "image/png": "[encoded data removed]",
      "text/plain": [
       "<matplotlib.figure.Figure at 0x2b93512f0438>"
      ]
     },
     "metadata": {
      "needs_background": "light"
     },
     "output_type": "display_data"
    }
   ],
   "source": []
  }
 ],
 "metadata": {
  "kernelspec": {
   "display_name": "Python 3",
   "language": "python",
   "name": "python3"
  },
  "language_info": {
   "codemirror_mode": {
    "name": "ipython",
    "version": 3
   },
   "file_extension": ".py",
   "mimetype": "text/x-python",
   "name": "python",
   "nbconvert_exporter": "python",
   "pygments_lexer": "ipython3",
   "version": "3.6.1"
  }
 },
 "nbformat": 4,
 "nbformat_minor": 2
}
