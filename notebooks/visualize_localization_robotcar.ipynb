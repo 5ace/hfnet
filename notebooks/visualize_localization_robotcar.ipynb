{
 "cells": [
  {
   "cell_type": "code",
   "execution_count": null,
   "metadata": {},
   "outputs": [],
   "source": [
    "import cv2\n",
    "import numpy as np\n",
    "from pathlib import Path\n",
    "import yaml\n",
    "\n",
    "from hfnet.datasets.robotcar import Robotcar\n",
    "from hfnet.evaluation.localization import Localization\n",
    "from hfnet.evaluation.utils.db_management import read_query_list\n",
    "from hfnet.evaluation.loaders import export_loader\n",
    "from hfnet.evaluation.visualize import draw_matches, draw_keypoints\n",
    "from hfnet.settings import DATA_PATH, EXPER_PATH\n",
    "from utils import plot_images\n",
    "\n",
    "%load_ext autoreload\n",
    "%autoreload 2\n",
    "%matplotlib inline"
   ]
  },
  {
   "cell_type": "markdown",
   "metadata": {},
   "source": [
    "# Run one of the three configs"
   ]
  },
  {
   "cell_type": "markdown",
   "metadata": {},
   "source": [
    "### NV+SP"
   ]
  },
  {
   "cell_type": "code",
   "execution_count": null,
   "metadata": {},
   "outputs": [],
   "source": [
    "config_global = {\n",
    "    'db_name': 'globaldb_netvlad.pkl',\n",
    "    'experiment': 'netvlad/robotcar_resize-960',\n",
    "    'predictor': export_loader, \n",
    "    'has_keypoints': False, \n",
    "    'has_descriptors': False, \n",
    "    'pca_dim': 1024,\n",
    "    'num_prior': 10,\n",
    "}\n",
    "config_local = {\n",
    "    'db_name': 'localdb_sp-nms4_focal-from-ref-db_shift-kpts.pkl',\n",
    "    'experiment': 'super_point_pytorch/robotcar_resize-960',\n",
    "    'predictor': export_loader,\n",
    "    'has_keypoints': True,\n",
    "    'has_descriptors': True,\n",
    "    'binarize': False,\n",
    "    'do_nms': True,\n",
    "    'nms_thresh': 4,\n",
    "    'num_features': 2000,\n",
    "    'ratio_thresh': 0.9,\n",
    "}\n",
    "model = 'sp_model'"
   ]
  },
  {
   "cell_type": "markdown",
   "metadata": {},
   "source": [
    "### HF-Net"
   ]
  },
  {
   "cell_type": "code",
   "execution_count": null,
   "metadata": {},
   "outputs": [],
   "source": [
    "config_global = {\n",
    "    'db_name': 'older/globaldb_hf_glm-bdd_lrsteps_focal-from-ref-db_shift-kpts.pkl',\n",
    "    'experiment': 'hfnet-shared_weights-unc_aug-photo_glm-bdd_lrsteps/robotcar_resize-960',\n",
    "    'predictor': export_loader, \n",
    "    'has_keypoints': False, \n",
    "    'has_descriptors': False, \n",
    "    'pca_dim': 1024,\n",
    "    'num_prior': 10,\n",
    "}\n",
    "config_local = {\n",
    "    'db_name': 'localdb_hf_glm-bdd_lrsteps.pkl',\n",
    "    'experiment': 'hfnet-shared_weights-unc_aug-photo_glm-bdd_lrsteps/robotcar_resize-960',\n",
    "    'predictor': export_loader,\n",
    "    'has_keypoints': True,\n",
    "    'has_descriptors': True,\n",
    "    'binarize': False,\n",
    "    'do_nms': True,\n",
    "    'nms_thresh': 4,\n",
    "    'num_features': 2000,\n",
    "    'ratio_thresh': 0.9,\n",
    "}\n",
    "model = 'sp_model'"
   ]
  },
  {
   "cell_type": "markdown",
   "metadata": {},
   "source": [
    "### NV+SIFT"
   ]
  },
  {
   "cell_type": "code",
   "execution_count": null,
   "metadata": {},
   "outputs": [],
   "source": [
    "config_global = {\n",
    "    'db_name': 'globaldb_netvlad.pkl',\n",
    "    'experiment': 'netvlad/robotcar_resize-960',\n",
    "    'predictor': export_loader, \n",
    "    'has_keypoints': False, \n",
    "    'has_descriptors': False, \n",
    "    'pca_dim': 1024,\n",
    "    'num_prior': 10,\n",
    "}\n",
    "config_local = {\n",
    "    'db_name': 'localdb_sift_raw.pkl',\n",
    "    'colmap_db': 'overcast-reference.db',\n",
    "    'colmap_db_queries': 'query.db',\n",
    "    'broken_db': True,\n",
    "    'ratio_thresh': 0.7,\n",
    "}\n",
    "model = 'sift_model'"
   ]
  },
  {
   "cell_type": "markdown",
   "metadata": {},
   "source": [
    "# Setup localization"
   ]
  },
  {
   "cell_type": "code",
   "execution_count": null,
   "metadata": {},
   "outputs": [],
   "source": [
    "config_pose = {\n",
    "    'reproj_error': 12,\n",
    "    'min_inliers': 15,\n",
    "}\n",
    "config = {'global': config_global, 'local': config_local, 'pose': config_pose}\n",
    "loc = Localization('robotcar', model, config)\n",
    "queries = read_query_list(Path(loc.base_path, 'queries/night_queries_with_intrinsics.txt'))"
   ]
  },
  {
   "cell_type": "markdown",
   "metadata": {},
   "source": [
    "# Optionally: analyze failure modes"
   ]
  },
  {
   "cell_type": "code",
   "execution_count": null,
   "metadata": {},
   "outputs": [],
   "source": [
    "eval_file = 'robotcar/eval_name.yaml'\n",
    "with open(Path(EXPER_PATH, 'eval', eval_file), 'r') as f:\n",
    "    failures = yaml.load(f)['metrics']['failure']\n",
    "queries = [queries[f] for f in failures]  # failures\n",
    "#queries = [queries[i] for i in range(len(queries)) if i not in set(failures)]  # success"
   ]
  },
  {
   "cell_type": "markdown",
   "metadata": {},
   "source": [
    "# Ready query dataset"
   ]
  },
  {
   "cell_type": "code",
   "execution_count": null,
   "metadata": {},
   "outputs": [],
   "source": [
    "query_dataset = Robotcar(**{'resize_max': 960, 'image_names': [q.name for q in queries]})\n",
    "def get_image(name):\n",
    "    path = Path(DATA_PATH, query_dataset.dataset_folder, name)\n",
    "    return cv2.imread(path.as_posix())"
   ]
  },
  {
   "cell_type": "markdown",
   "metadata": {},
   "source": [
    "# Localize"
   ]
  },
  {
   "cell_type": "code",
   "execution_count": null,
   "metadata": {},
   "outputs": [],
   "source": [
    "query_iter = query_dataset.get_test_set()\n",
    "for i, query_info, query_data in zip(range(10), queries, query_iter):\n",
    "    results, debug = loc.localize(query_info, query_data, debug=True)\n",
    "    s = f'{i} {\"Success\" if results.success else \"Failure\"}, inliers {results.num_inliers:^4}, ' \\\n",
    "        + f'ratio {results.inlier_ratio:.3f}, landmarks {len(debug[\"matching\"][\"lm_frames\"]):>4}, ' \\\n",
    "        + f'spl {debug[\"index_success\"]:>2}, places {[len(p) for p in debug[\"places\"]]:}, ' \\\n",
    "        + f'pos {[f\"{n:.1f}\" for n in results.T[:3, 3]]}'\n",
    "    print(s)\n",
    "    \n",
    "    sorted_frames, counts = np.unique(\n",
    "        [debug['matching']['lm_frames'][m2] for m1, m2 in debug['matches'][debug['inliers']]],\n",
    "        return_counts=True)\n",
    "    best_id = sorted_frames[np.argmax(counts)]\n",
    "\n",
    "    query_image = get_image(query_info.name)\n",
    "    best_image = get_image(loc.images[best_id].name)\n",
    "    best_matches_inliers = [(m1, debug['matching']['lm_indices'][m2]) \n",
    "                            for m1, m2 in debug['matches'][debug['inliers']] \n",
    "                            if debug['matching']['lm_frames'][m2] == best_id]\n",
    "    best_matches_outliers = [(m1, debug['matching']['lm_indices'][m2])\n",
    "                            for i, (m1, m2) in enumerate(debug['matches']) \n",
    "                            if debug['matching']['lm_frames'][m2] == best_id\n",
    "                            and i not in debug['inliers']]\n",
    "    pair_inliers = draw_matches(query_image, debug['query_item'].keypoints,\n",
    "                                best_image, loc.local_db[best_id].keypoints,\n",
    "                                best_matches_inliers, color=(0, 255, 0))\n",
    "    pair = draw_matches(query_image, debug['query_item'].keypoints,\n",
    "                        best_image, loc.local_db[best_id].keypoints,\n",
    "                        best_matches_outliers+best_matches_inliers, \n",
    "                        color=(([(0, 0, 255)]*len(best_matches_outliers))\n",
    "                               +([(0, 255, 0)]*len(best_matches_inliers))))\n",
    "    plot_images([pair_inliers], dpi=150)\n",
    "    plot_images([pair], dpi=150)\n",
    "    \n",
    "    plot_images([get_image(loc.images[j].name) \n",
    "                 for j in debug['places'][max(debug[\"index_success\"], 0)][:5]],\n",
    "                ylabel='retrieved')"
   ]
  }
 ],
 "metadata": {
  "kernelspec": {
   "display_name": "Python 3",
   "language": "python",
   "name": "python3"
  },
  "language_info": {
   "codemirror_mode": {
    "name": "ipython",
    "version": 3
   },
   "file_extension": ".py",
   "mimetype": "text/x-python",
   "name": "python",
   "nbconvert_exporter": "python",
   "pygments_lexer": "ipython3",
   "version": "3.6.1"
  }
 },
 "nbformat": 4,
 "nbformat_minor": 2
}
