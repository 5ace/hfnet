{
 "cells": [
  {
   "cell_type": "code",
   "execution_count": 1,
   "metadata": {},
   "outputs": [],
   "source": [
    "import numpy as np\n",
    "from pathlib import Path\n",
    "from tqdm import tqdm\n",
    "import matplotlib.pyplot as plt\n",
    "\n",
    "from hfnet.datasets.colmap import Colmap\n",
    "from hfnet.evaluation.loaders import sift_loader, export_loader, fast_loader, harris_loader\n",
    "from hfnet.evaluation.local_descriptors import evaluate\n",
    "\n",
    "from utils import plot_images\n",
    "\n",
    "%load_ext autoreload\n",
    "%autoreload 2\n",
    "%matplotlib inline"
   ]
  },
  {
   "cell_type": "code",
   "execution_count": 2,
   "metadata": {},
   "outputs": [
    {
     "name": "stderr",
     "output_type": "stream",
     "text": [
      "[10/15/2018 23:54:03 INFO] Colmap sequence british_museum contains 50 pairs\n",
      "[10/15/2018 23:54:04 INFO] Colmap sequence florence_cathedral_side contains 50 pairs\n",
      "[10/15/2018 23:54:17 INFO] Colmap sequence lincoln_memorial_statue contains 50 pairs\n",
      "[10/15/2018 23:54:25 INFO] Colmap sequence london_bridge contains 50 pairs\n",
      "[10/15/2018 23:54:27 INFO] Colmap sequence milan_cathedral contains 50 pairs\n",
      "[10/15/2018 23:54:29 INFO] Colmap sequence mount_rushmore contains 50 pairs\n",
      "[10/15/2018 23:54:33 INFO] Colmap sequence piazza_san_marco contains 50 pairs\n",
      "[10/15/2018 23:54:33 INFO] Colmap sequence reichstag contains 50 pairs\n",
      "[10/15/2018 23:54:40 INFO] Colmap sequence sagrada_familia contains 50 pairs\n",
      "[10/15/2018 23:54:50 INFO] Colmap sequence st_pauls_cathedral contains 50 pairs\n",
      "[10/15/2018 23:54:53 INFO] Colmap sequence united_states_capitol contains 50 pairs\n"
     ]
    }
   ],
   "source": [
    "config = {\n",
    "    'sequences': ['british_museum', 'florence_cathedral_side', 'lincoln_memorial_statue', \n",
    "                  'london_bridge', 'milan_cathedral', 'mount_rushmore', 'piazza_san_marco',\n",
    "                  'reichstag', 'sagrada_familia', 'st_pauls_cathedral', 'united_states_capitol'],\n",
    "    'make_pairs': True, 'shuffle': True, 'pair_thresh': 0.4, 'max_num_pairs': 50\n",
    "}\n",
    "dataset = Colmap(**config)"
   ]
  },
  {
   "cell_type": "code",
   "execution_count": 23,
   "metadata": {},
   "outputs": [],
   "source": [
    "config = {\n",
    "    'id': 'sift_ratio',\n",
    "    'predictor': sift_loader,\n",
    "    'root': False,\n",
    "    'num_features': 1000,\n",
    "    'do_ratio_test': True,\n",
    "    'do_nms': False,\n",
    "    'nms_thresh': 4,\n",
    "}"
   ]
  },
  {
   "cell_type": "code",
   "execution_count": 7,
   "metadata": {},
   "outputs": [],
   "source": [
    "config = {\n",
    "    'id': 'superpoint_ratio_nms-8',\n",
    "    'experiment': 'super_point_pytorch/colmap_all',\n",
    "    'predictor': export_loader,\n",
    "    'num_features': 1000,\n",
    "#    'keypoint_predictor': harris_loader,\n",
    "#    'keypoint_config': {\n",
    "#        'do_nms': True,\n",
    "#        'nms_thresh': 4,\n",
    "#    },\n",
    "    'do_nms': True,\n",
    "    'nms_thresh': 8,\n",
    "    'do_ratio_test': True,\n",
    "    'binarize': False,\n",
    "}"
   ]
  },
  {
   "cell_type": "code",
   "execution_count": 13,
   "metadata": {},
   "outputs": [],
   "source": [
    "config = {\n",
    "    'id': 'doap_dense_hpatches_superpoint_nms-4_ratio',\n",
    "    'experiment': 'doap_dense_hpatches/colmap',\n",
    "    'predictor': export_loader,\n",
    "    'keypoint_predictor': export_loader,\n",
    "    'keypoint_config': {\n",
    "        'experiment': 'super_point_pytorch/colmap_all',\n",
    "        'do_nms': True,\n",
    "        'nms_thresh': 4,\n",
    "    },\n",
    "    'num_features': 1000,\n",
    "    'do_ratio_test': True,\n",
    "}"
   ]
  },
  {
   "cell_type": "code",
   "execution_count": 101,
   "metadata": {},
   "outputs": [],
   "source": [
    "config = {\n",
    "    'id': 'netvlad_conv3-3_dist_1000-kpts-sp',\n",
    "    'experiment': 'netvlad/colmap',\n",
    "    'predictor': export_loader,\n",
    "    'num_features': 1000,\n",
    "    'keypoint_predictor': export_loader,\n",
    "    'keypoint_config': {\n",
    "        'experiment': 'super_point_pytorch/colmap_all',\n",
    "        'do_nms': True,\n",
    "        'nms_thresh': 4,\n",
    "    },\n",
    "    'do_ratio_test': False,\n",
    "    'binarize': False,\n",
    "}"
   ]
  },
  {
   "cell_type": "code",
   "execution_count": 142,
   "metadata": {},
   "outputs": [],
   "source": [
    "config = {\n",
    "    'id': 'mobilenetvlad_L-14_dist_1000-kpts-sp',\n",
    "    'experiment': 'mobilenetvlad_depth-0.35/colmap_layer-14',\n",
    "    'predictor': export_loader,\n",
    "    'num_features': 1000,\n",
    "    'keypoint_predictor': export_loader,\n",
    "    'keypoint_config': {\n",
    "        'experiment': 'super_point_pytorch/colmap_all',\n",
    "        'do_nms': True,\n",
    "        'nms_thresh': 4,\n",
    "    },\n",
    "    'do_ratio_test': False,\n",
    "}"
   ]
  },
  {
   "cell_type": "code",
   "execution_count": 25,
   "metadata": {},
   "outputs": [],
   "source": [
    "config = {\n",
    "    'id': 'lfnet_dist',\n",
    "    'experiment': 'lfnet/colmap_all_kpts-1000',\n",
    "    'predictor': export_loader,\n",
    "    'num_features': 1000,\n",
    "    'do_ratio_test': False,\n",
    "    'do_nms': False,\n",
    "    'nms_thresh': 4,\n",
    "}"
   ]
  },
  {
   "cell_type": "code",
   "execution_count": null,
   "metadata": {},
   "outputs": [],
   "source": [
    "eval_config = {\n",
    "    'correct_match_thresh': 5,\n",
    "    'correct_trans_thresh': 1,\n",
    "    'correct_rot_thresh': 1,\n",
    "    'plot_match_thresh': [0.9, 0.8, 0.75, 0.7, 0.6]\n",
    "}\n",
    "config.update(eval_config)\n",
    "data_iter = dataset.get_test_set()\n",
    "metrics, precision, recall, distances = evaluate(data_iter, config, is_2d=False)\n",
    "print('> {}'.format(config['id']))\n",
    "for k, v in metrics.items():\n",
    "    print('{:<25} {:.3f}'.format(k, v))\n",
    "print(config)"
   ]
  },
  {
   "cell_type": "markdown",
   "metadata": {},
   "source": [
    "# DOAP"
   ]
  },
  {
   "cell_type": "code",
   "execution_count": 91,
   "metadata": {},
   "outputs": [
    {
     "name": "stderr",
     "output_type": "stream",
     "text": [
      "550it [04:58,  2.17it/s]"
     ]
    },
    {
     "name": "stdout",
     "output_type": "stream",
     "text": [
      "> doap_dense_hpatches_superpoint\n",
      "average_num_keypoints     828.634\n",
      "correctness               0.756\n",
      "matching_score            0.379\n",
      "mAP                       0.384\n",
      "{'id': 'doap_dense_hpatches_superpoint', 'experiment': 'doap_dense_hpatches/colmap', 'predictor': <function export_loader at 0x2ad38a23f620>, 'keypoint_predictor': <function export_loader at 0x2ad38a23f620>, 'keypoint_config': {'experiment': 'super_point_pytorch/colmap_all', 'do_nms': True, 'nms_thresh': 4, 'keypoint_predictor': None}, 'num_features': 1000, 'do_ratio_test': False, 'correct_match_thresh': 5, 'correct_trans_thresh': 1, 'correct_rot_thresh': 1, 'plot_match_thresh': [0.9, 0.8, 0.75, 0.7, 0.6]}\n"
     ]
    },
    {
     "name": "stderr",
     "output_type": "stream",
     "text": [
      "\n"
     ]
    }
   ],
   "source": []
  },
  {
   "cell_type": "code",
   "execution_count": 97,
   "metadata": {},
   "outputs": [
    {
     "name": "stderr",
     "output_type": "stream",
     "text": [
      "550it [02:18,  5.37it/s]\n"
     ]
    },
    {
     "name": "stdout",
     "output_type": "stream",
     "text": [
      "> doap_dense_hpatches_superpoint_nms-8\n",
      "average_num_keypoints     686.533\n",
      "correctness               0.767\n",
      "matching_score            0.363\n",
      "mAP                       0.397\n",
      "{'id': 'doap_dense_hpatches_superpoint_nms-8', 'experiment': 'doap_dense_hpatches/colmap', 'predictor': <function export_loader at 0x2ad38a23f620>, 'keypoint_predictor': <function export_loader at 0x2ad38a23f620>, 'keypoint_config': {'experiment': 'super_point_pytorch/colmap_all', 'do_nms': True, 'nms_thresh': 8, 'keypoint_predictor': None}, 'num_features': 1000, 'do_ratio_test': False, 'correct_match_thresh': 5, 'correct_trans_thresh': 1, 'correct_rot_thresh': 1, 'plot_match_thresh': [0.9, 0.8, 0.75, 0.7, 0.6]}\n"
     ]
    }
   ],
   "source": []
  },
  {
   "cell_type": "code",
   "execution_count": 95,
   "metadata": {},
   "outputs": [
    {
     "name": "stderr",
     "output_type": "stream",
     "text": [
      "550it [04:10,  2.64it/s]"
     ]
    },
    {
     "name": "stdout",
     "output_type": "stream",
     "text": [
      "> doap_dense_liberty_superpoint\n",
      "average_num_keypoints     828.634\n",
      "correctness               0.716\n",
      "matching_score            0.321\n",
      "mAP                       0.269\n",
      "{'id': 'doap_dense_liberty_superpoint', 'experiment': 'doap_dense_liberty/colmap', 'predictor': <function export_loader at 0x2ad38a23f620>, 'keypoint_predictor': <function export_loader at 0x2ad38a23f620>, 'keypoint_config': {'experiment': 'super_point_pytorch/colmap_all', 'do_nms': True, 'nms_thresh': 4, 'keypoint_predictor': None}, 'num_features': 1000, 'do_ratio_test': False, 'correct_match_thresh': 5, 'correct_trans_thresh': 1, 'correct_rot_thresh': 1, 'plot_match_thresh': [0.9, 0.8, 0.75, 0.7, 0.6]}\n"
     ]
    },
    {
     "name": "stderr",
     "output_type": "stream",
     "text": [
      "\n"
     ]
    }
   ],
   "source": []
  },
  {
   "cell_type": "code",
   "execution_count": 93,
   "metadata": {},
   "outputs": [
    {
     "name": "stderr",
     "output_type": "stream",
     "text": [
      "550it [04:08,  2.65it/s]"
     ]
    },
    {
     "name": "stdout",
     "output_type": "stream",
     "text": [
      "> doap_dense_hpatches_sift\n",
      "average_num_keypoints     1000.000\n",
      "correctness               0.664\n",
      "matching_score            0.296\n",
      "mAP                       0.299\n",
      "{'id': 'doap_dense_hpatches_sift', 'experiment': 'doap_dense_hpatches/colmap', 'predictor': <function export_loader at 0x2ad38a23f620>, 'keypoint_predictor': <function sift_loader at 0x2ad3b76450d0>, 'keypoint_config': {'keypoint_predictor': None}, 'num_features': 1000, 'do_ratio_test': False, 'correct_match_thresh': 5, 'correct_trans_thresh': 1, 'correct_rot_thresh': 1, 'plot_match_thresh': [0.9, 0.8, 0.75, 0.7, 0.6]}\n"
     ]
    },
    {
     "name": "stderr",
     "output_type": "stream",
     "text": [
      "\n"
     ]
    }
   ],
   "source": []
  },
  {
   "cell_type": "code",
   "execution_count": 11,
   "metadata": {},
   "outputs": [
    {
     "name": "stderr",
     "output_type": "stream",
     "text": [
      "550it [02:23,  5.32it/s]\n"
     ]
    },
    {
     "name": "stdout",
     "output_type": "stream",
     "text": [
      "> doap_dense_hpatches_superpoint_nms-8_ratio\n",
      "average_num_keypoints     686.533\n",
      "correctness               0.767\n",
      "matching_score            0.363\n",
      "mAP                       0.466\n",
      "{'id': 'doap_dense_hpatches_superpoint_nms-8_ratio', 'experiment': 'doap_dense_hpatches/colmap', 'predictor': <function export_loader at 0x2b5c880b0950>, 'keypoint_predictor': <function export_loader at 0x2b5c880b0950>, 'keypoint_config': {'experiment': 'super_point_pytorch/colmap_all', 'do_nms': True, 'nms_thresh': 8, 'keypoint_predictor': None}, 'num_features': 1000, 'do_ratio_test': True, 'correct_match_thresh': 5, 'correct_trans_thresh': 1, 'correct_rot_thresh': 1, 'plot_match_thresh': [0.9, 0.8, 0.75, 0.7, 0.6]}\n"
     ]
    }
   ],
   "source": []
  },
  {
   "cell_type": "code",
   "execution_count": 14,
   "metadata": {},
   "outputs": [
    {
     "name": "stderr",
     "output_type": "stream",
     "text": [
      "550it [02:24,  5.08it/s]\n"
     ]
    },
    {
     "name": "stdout",
     "output_type": "stream",
     "text": [
      "> doap_dense_hpatches_superpoint_nms-4_ratio\n",
      "average_num_keypoints     828.634\n",
      "correctness               0.756\n",
      "matching_score            0.379\n",
      "mAP                       0.446\n",
      "{'id': 'doap_dense_hpatches_superpoint_nms-4_ratio', 'experiment': 'doap_dense_hpatches/colmap', 'predictor': <function export_loader at 0x2b5c880b0950>, 'keypoint_predictor': <function export_loader at 0x2b5c880b0950>, 'keypoint_config': {'experiment': 'super_point_pytorch/colmap_all', 'do_nms': True, 'nms_thresh': 4, 'keypoint_predictor': None}, 'num_features': 1000, 'do_ratio_test': True, 'correct_match_thresh': 5, 'correct_trans_thresh': 1, 'correct_rot_thresh': 1, 'plot_match_thresh': [0.9, 0.8, 0.75, 0.7, 0.6]}\n"
     ]
    }
   ],
   "source": []
  },
  {
   "cell_type": "markdown",
   "metadata": {},
   "source": [
    "# NetVLAD"
   ]
  },
  {
   "cell_type": "code",
   "execution_count": 86,
   "metadata": {},
   "outputs": [
    {
     "name": "stderr",
     "output_type": "stream",
     "text": [
      "550it [06:13,  1.73it/s]"
     ]
    },
    {
     "name": "stdout",
     "output_type": "stream",
     "text": [
      "> netvlad_conv3-3_dist_1000-kpts-sp\n",
      "average_num_keypoints     828.634\n",
      "correctness               0.751\n",
      "matching_score            0.320\n",
      "mAP                       0.262\n",
      "{'id': 'netvlad_conv3-3_dist_1000-kpts-sp', 'experiment': 'netvlad/colmap', 'predictor': <function export_loader at 0x2ad38a23f620>, 'num_features': 1000, 'keypoint_predictor': <function export_loader at 0x2ad38a23f620>, 'keypoint_config': {'experiment': 'super_point_pytorch/colmap_all', 'do_nms': True, 'nms_thresh': 4, 'keypoint_predictor': None}, 'do_ratio_test': False, 'correct_match_thresh': 5, 'correct_trans_thresh': 1, 'correct_rot_thresh': 1, 'plot_match_thresh': [0.9, 0.8, 0.75, 0.7, 0.6]}\n"
     ]
    },
    {
     "name": "stderr",
     "output_type": "stream",
     "text": [
      "\n"
     ]
    }
   ],
   "source": []
  },
  {
   "cell_type": "code",
   "execution_count": 88,
   "metadata": {},
   "outputs": [
    {
     "name": "stderr",
     "output_type": "stream",
     "text": [
      "550it [03:05,  3.35it/s]"
     ]
    },
    {
     "name": "stdout",
     "output_type": "stream",
     "text": [
      "> netvlad_conv3-3_dist_1000-kpts-sp\n",
      "average_num_keypoints     828.634\n",
      "correctness               0.745\n",
      "matching_score            0.279\n",
      "mAP                       0.194\n",
      "{'id': 'netvlad_conv3-3_dist_1000-kpts-sp', 'experiment': 'netvlad/colmap', 'predictor': <function export_loader at 0x2ad38a23f620>, 'num_features': 1000, 'keypoint_predictor': <function export_loader at 0x2ad38a23f620>, 'keypoint_config': {'experiment': 'super_point_pytorch/colmap_all', 'do_nms': True, 'nms_thresh': 4, 'keypoint_predictor': None}, 'do_ratio_test': False, 'binarize': True, 'correct_match_thresh': 5, 'correct_trans_thresh': 1, 'correct_rot_thresh': 1, 'plot_match_thresh': [0.9, 0.8, 0.75, 0.7, 0.6]}\n"
     ]
    },
    {
     "name": "stderr",
     "output_type": "stream",
     "text": [
      "\n"
     ]
    }
   ],
   "source": []
  },
  {
   "cell_type": "markdown",
   "metadata": {},
   "source": [
    "# LF-Net"
   ]
  },
  {
   "cell_type": "code",
   "execution_count": 130,
   "metadata": {},
   "outputs": [
    {
     "name": "stderr",
     "output_type": "stream",
     "text": [
      "550it [01:24, 10.60it/s]\n"
     ]
    },
    {
     "name": "stdout",
     "output_type": "stream",
     "text": [
      "> lfnet_dist\n",
      "average_num_keypoints     1000.000\n",
      "correctness               0.631\n",
      "matching_score            0.205\n",
      "mAP                       0.078\n",
      "{'id': 'lfnet_dist', 'experiment': 'lfnet/colmap_all_kpts-1000', 'predictor': <function export_loader at 0x2aff7ff6c9d8>, 'num_features': 1000, 'do_ratio_test': False, 'do_nms': False, 'nms_thresh': 8, 'correct_match_thresh': 5, 'correct_trans_thresh': 1, 'correct_rot_thresh': 1, 'plot_match_thresh': [0.9, 0.8, 0.75, 0.7, 0.6]}\n"
     ]
    }
   ],
   "source": []
  },
  {
   "cell_type": "code",
   "execution_count": 139,
   "metadata": {},
   "outputs": [
    {
     "name": "stderr",
     "output_type": "stream",
     "text": [
      "550it [01:24,  6.53it/s]"
     ]
    },
    {
     "name": "stdout",
     "output_type": "stream",
     "text": [
      "> lfnet_dist\n",
      "average_num_keypoints     919.973\n",
      "correctness               0.667\n",
      "matching_score            0.202\n",
      "mAP                       0.078\n",
      "{'id': 'lfnet_dist', 'experiment': 'lfnet/colmap_all_kpts-1000', 'predictor': <function export_loader at 0x2aff7ff6c9d8>, 'num_features': 1000, 'do_ratio_test': False, 'do_nms': True, 'nms_thresh': 4, 'correct_match_thresh': 5, 'correct_trans_thresh': 1, 'correct_rot_thresh': 1, 'plot_match_thresh': [0.9, 0.8, 0.75, 0.7, 0.6]}\n"
     ]
    },
    {
     "name": "stderr",
     "output_type": "stream",
     "text": [
      "\n"
     ]
    }
   ],
   "source": []
  },
  {
   "cell_type": "code",
   "execution_count": 127,
   "metadata": {},
   "outputs": [
    {
     "name": "stderr",
     "output_type": "stream",
     "text": [
      "550it [01:20, 11.22it/s]"
     ]
    },
    {
     "name": "stdout",
     "output_type": "stream",
     "text": [
      "> lfnet_ratio\n",
      "average_num_keypoints     1000.000\n",
      "correctness               0.631\n",
      "matching_score            0.205\n",
      "mAP                       0.186\n",
      "{'id': 'lfnet_ratio', 'experiment': 'lfnet/colmap_all_kpts-1000', 'predictor': <function export_loader at 0x2aff7ff6c9d8>, 'num_features': 1000, 'do_ratio_test': True, 'do_nms': False, 'nms_thresh': 8, 'correct_match_thresh': 5, 'correct_trans_thresh': 1, 'correct_rot_thresh': 1, 'plot_match_thresh': [0.9, 0.8, 0.75, 0.7, 0.6]}\n"
     ]
    },
    {
     "name": "stderr",
     "output_type": "stream",
     "text": [
      "\n"
     ]
    }
   ],
   "source": []
  },
  {
   "cell_type": "markdown",
   "metadata": {},
   "source": [
    "# SuperPoint"
   ]
  },
  {
   "cell_type": "code",
   "execution_count": 134,
   "metadata": {},
   "outputs": [
    {
     "name": "stderr",
     "output_type": "stream",
     "text": [
      "550it [01:46,  7.96it/s]"
     ]
    },
    {
     "name": "stdout",
     "output_type": "stream",
     "text": [
      "> superpoint_dist_nms-4\n",
      "average_num_keypoints     828.634\n",
      "correctness               0.718\n",
      "matching_score            0.346\n",
      "mAP                       0.322\n",
      "{'id': 'superpoint_dist_nms-4', 'experiment': 'super_point_pytorch/colmap_all', 'predictor': <function export_loader at 0x2aff7ff6c9d8>, 'num_features': 1000, 'do_nms': True, 'nms_thresh': 4, 'do_ratio_test': False, 'correct_match_thresh': 5, 'correct_trans_thresh': 1, 'correct_rot_thresh': 1, 'plot_match_thresh': [0.9, 0.8, 0.75, 0.7, 0.6]}\n"
     ]
    },
    {
     "name": "stderr",
     "output_type": "stream",
     "text": [
      "\n"
     ]
    }
   ],
   "source": []
  },
  {
   "cell_type": "code",
   "execution_count": 136,
   "metadata": {},
   "outputs": [
    {
     "name": "stderr",
     "output_type": "stream",
     "text": [
      "550it [01:47,  7.11it/s]"
     ]
    },
    {
     "name": "stdout",
     "output_type": "stream",
     "text": [
      "> superpoint_ratio_nms-4\n",
      "average_num_keypoints     828.634\n",
      "correctness               0.718\n",
      "matching_score            0.346\n",
      "mAP                       0.372\n",
      "{'id': 'superpoint_ratio_nms-4', 'experiment': 'super_point_pytorch/colmap_all', 'predictor': <function export_loader at 0x2aff7ff6c9d8>, 'num_features': 1000, 'do_nms': True, 'nms_thresh': 4, 'do_ratio_test': True, 'correct_match_thresh': 5, 'correct_trans_thresh': 1, 'correct_rot_thresh': 1, 'plot_match_thresh': [0.9, 0.8, 0.75, 0.7, 0.6]}\n"
     ]
    },
    {
     "name": "stderr",
     "output_type": "stream",
     "text": [
      "\n"
     ]
    }
   ],
   "source": []
  },
  {
   "cell_type": "code",
   "execution_count": 123,
   "metadata": {},
   "outputs": [
    {
     "name": "stderr",
     "output_type": "stream",
     "text": [
      "550it [01:39,  8.27it/s]"
     ]
    },
    {
     "name": "stdout",
     "output_type": "stream",
     "text": [
      "> superpoint_dist_nms-8\n",
      "average_num_keypoints     686.533\n",
      "correctness               0.744\n",
      "matching_score            0.337\n",
      "mAP                       0.343\n",
      "{'id': 'superpoint_dist_nms-8', 'experiment': 'super_point_pytorch/colmap_all', 'predictor': <function export_loader at 0x2aff7ff6c9d8>, 'num_features': 1000, 'do_nms': True, 'nms_thresh': 8, 'do_ratio_test': False, 'correct_match_thresh': 5, 'correct_trans_thresh': 1, 'correct_rot_thresh': 1, 'plot_match_thresh': [0.9, 0.8, 0.75, 0.7, 0.6]}\n"
     ]
    },
    {
     "name": "stderr",
     "output_type": "stream",
     "text": [
      "\n"
     ]
    }
   ],
   "source": []
  },
  {
   "cell_type": "code",
   "execution_count": 8,
   "metadata": {},
   "outputs": [
    {
     "name": "stderr",
     "output_type": "stream",
     "text": [
      "550it [01:47,  7.58it/s]"
     ]
    },
    {
     "name": "stdout",
     "output_type": "stream",
     "text": [
      "> superpoint_ratio_nms-8\n",
      "average_num_keypoints     686.533\n",
      "correctness               0.744\n",
      "matching_score            0.337\n",
      "mAP                       0.403\n",
      "{'id': 'superpoint_ratio_nms-8', 'experiment': 'super_point_pytorch/colmap_all', 'predictor': <function export_loader at 0x2b5c880b0950>, 'num_features': 1000, 'do_nms': True, 'nms_thresh': 8, 'do_ratio_test': True, 'binarize': False, 'correct_match_thresh': 5, 'correct_trans_thresh': 1, 'correct_rot_thresh': 1, 'plot_match_thresh': [0.9, 0.8, 0.75, 0.7, 0.6]}\n"
     ]
    },
    {
     "name": "stderr",
     "output_type": "stream",
     "text": [
      "\n"
     ]
    }
   ],
   "source": []
  },
  {
   "cell_type": "code",
   "execution_count": 148,
   "metadata": {},
   "outputs": [
    {
     "name": "stderr",
     "output_type": "stream",
     "text": [
      "550it [03:46,  2.98it/s]"
     ]
    },
    {
     "name": "stdout",
     "output_type": "stream",
     "text": [
      "> superpoint_dist_nms-4_harris\n",
      "average_num_keypoints     980.197\n",
      "correctness               0.620\n",
      "matching_score            0.325\n",
      "mAP                       0.265\n",
      "{'id': 'superpoint_dist_nms-4_harris', 'experiment': 'super_point_pytorch/colmap_all', 'predictor': <function export_loader at 0x2aff7ff6c9d8>, 'num_features': 1000, 'keypoint_predictor': <function harris_loader at 0x2aff7ff6c950>, 'keypoint_config': {'do_nms': True, 'nms_thresh': 4, 'keypoint_predictor': None}, 'do_nms': True, 'nms_thresh': 4, 'do_ratio_test': False, 'correct_match_thresh': 5, 'correct_trans_thresh': 1, 'correct_rot_thresh': 1, 'plot_match_thresh': [0.9, 0.8, 0.75, 0.7, 0.6]}\n"
     ]
    },
    {
     "name": "stderr",
     "output_type": "stream",
     "text": [
      "\n"
     ]
    }
   ],
   "source": []
  },
  {
   "cell_type": "code",
   "execution_count": 80,
   "metadata": {},
   "outputs": [
    {
     "name": "stderr",
     "output_type": "stream",
     "text": [
      "550it [01:34,  7.80it/s]"
     ]
    },
    {
     "name": "stdout",
     "output_type": "stream",
     "text": [
      "> superpoint_dist\n",
      "average_num_keypoints     686.533\n",
      "correctness               0.702\n",
      "matching_score            0.310\n",
      "mAP                       0.293\n",
      "{'id': 'superpoint_dist', 'experiment': 'super_point_pytorch/colmap_all', 'predictor': <function export_loader at 0x2ad38a23f620>, 'num_features': 1000, 'do_nms': True, 'nms_thresh': 8, 'do_ratio_test': False, 'binarize': True, 'correct_match_thresh': 5, 'correct_trans_thresh': 1, 'correct_rot_thresh': 1, 'plot_match_thresh': [0.9, 0.8, 0.75, 0.7, 0.6]}\n"
     ]
    },
    {
     "name": "stderr",
     "output_type": "stream",
     "text": [
      "\n"
     ]
    }
   ],
   "source": [
    "'binarized'"
   ]
  },
  {
   "cell_type": "code",
   "execution_count": 77,
   "metadata": {},
   "outputs": [
    {
     "name": "stderr",
     "output_type": "stream",
     "text": [
      "550it [01:55,  9.01it/s]\n"
     ]
    },
    {
     "name": "stdout",
     "output_type": "stream",
     "text": [
      "> superpoint_dist\n",
      "average_num_keypoints     828.634\n",
      "correctness               0.707\n",
      "matching_score            0.316\n",
      "mAP                       0.271\n",
      "{'id': 'superpoint_dist', 'experiment': 'super_point_pytorch/colmap_all', 'predictor': <function export_loader at 0x2ad38a23f620>, 'num_features': 1000, 'do_nms': True, 'nms_thresh': 4, 'do_ratio_test': False, 'binarize': True, 'correct_match_thresh': 5, 'correct_trans_thresh': 1, 'correct_rot_thresh': 1, 'plot_match_thresh': [0.9, 0.8, 0.75, 0.7, 0.6]}\n"
     ]
    }
   ],
   "source": [
    "'binarized'"
   ]
  },
  {
   "cell_type": "markdown",
   "metadata": {},
   "source": [
    "# SIFT"
   ]
  },
  {
   "cell_type": "code",
   "execution_count": 125,
   "metadata": {},
   "outputs": [
    {
     "name": "stderr",
     "output_type": "stream",
     "text": [
      "550it [03:26,  3.08it/s]"
     ]
    },
    {
     "name": "stdout",
     "output_type": "stream",
     "text": [
      "> sift_ratio\n",
      "average_num_keypoints     1000.000\n",
      "correctness               0.675\n",
      "matching_score            0.178\n",
      "mAP                       0.195\n",
      "{'id': 'sift_ratio', 'predictor': <function sift_loader at 0x2aff7ff54ea0>, 'num_features': 1000, 'do_ratio_test': True, 'correct_match_thresh': 5, 'correct_trans_thresh': 1, 'correct_rot_thresh': 1, 'plot_match_thresh': [0.9, 0.8, 0.75, 0.7, 0.6]}\n"
     ]
    },
    {
     "name": "stderr",
     "output_type": "stream",
     "text": [
      "\n"
     ]
    }
   ],
   "source": []
  },
  {
   "cell_type": "code",
   "execution_count": 132,
   "metadata": {},
   "outputs": [
    {
     "name": "stderr",
     "output_type": "stream",
     "text": [
      "550it [03:29,  2.98it/s]"
     ]
    },
    {
     "name": "stdout",
     "output_type": "stream",
     "text": [
      "> sift_ratio_root\n",
      "average_num_keypoints     1000.000\n",
      "correctness               0.713\n",
      "matching_score            0.192\n",
      "mAP                       0.224\n",
      "{'id': 'sift_ratio_root', 'predictor': <function sift_loader at 0x2aff7ff54ea0>, 'root': True, 'num_features': 1000, 'do_ratio_test': True, 'correct_match_thresh': 5, 'correct_trans_thresh': 1, 'correct_rot_thresh': 1, 'plot_match_thresh': [0.9, 0.8, 0.75, 0.7, 0.6]}\n"
     ]
    },
    {
     "name": "stderr",
     "output_type": "stream",
     "text": [
      "\n"
     ]
    }
   ],
   "source": []
  },
  {
   "cell_type": "code",
   "execution_count": 141,
   "metadata": {},
   "outputs": [
    {
     "name": "stderr",
     "output_type": "stream",
     "text": [
      "550it [03:45,  3.01it/s]"
     ]
    },
    {
     "name": "stdout",
     "output_type": "stream",
     "text": [
      "> sift_ratio_root\n",
      "average_num_keypoints     1000.000\n",
      "correctness               0.695\n",
      "matching_score            0.164\n",
      "mAP                       0.184\n",
      "{'id': 'sift_ratio_root', 'predictor': <function sift_loader at 0x2aff7ff54ea0>, 'root': True, 'num_features': 1000, 'do_ratio_test': True, 'do_nms': True, 'nms_thresh': 4, 'correct_match_thresh': 5, 'correct_trans_thresh': 1, 'correct_rot_thresh': 1, 'plot_match_thresh': [0.9, 0.8, 0.75, 0.7, 0.6]}\n"
     ]
    },
    {
     "name": "stderr",
     "output_type": "stream",
     "text": [
      "\n"
     ]
    }
   ],
   "source": []
  },
  {
   "cell_type": "markdown",
   "metadata": {},
   "source": [
    "# MobilenetVLAD"
   ]
  },
  {
   "cell_type": "code",
   "execution_count": 143,
   "metadata": {},
   "outputs": [
    {
     "name": "stderr",
     "output_type": "stream",
     "text": [
      "550it [01:46,  7.03it/s]"
     ]
    },
    {
     "name": "stdout",
     "output_type": "stream",
     "text": [
      "> mobilenetvlad_L-14_dist_1000-kpts-sp\n",
      "average_num_keypoints     828.634\n",
      "correctness               0.435\n",
      "matching_score            0.154\n",
      "mAP                       0.057\n",
      "{'id': 'mobilenetvlad_L-14_dist_1000-kpts-sp', 'experiment': 'mobilenetvlad_depth-0.35/colmap_layer-14', 'predictor': <function export_loader at 0x2aff7ff6c9d8>, 'num_features': 1000, 'keypoint_predictor': <function export_loader at 0x2aff7ff6c9d8>, 'keypoint_config': {'experiment': 'super_point_pytorch/colmap_all', 'do_nms': True, 'nms_thresh': 4, 'keypoint_predictor': None}, 'do_ratio_test': False, 'correct_match_thresh': 5, 'correct_trans_thresh': 1, 'correct_rot_thresh': 1, 'plot_match_thresh': [0.9, 0.8, 0.75, 0.7, 0.6]}\n"
     ]
    },
    {
     "name": "stderr",
     "output_type": "stream",
     "text": [
      "\n"
     ]
    }
   ],
   "source": []
  },
  {
   "cell_type": "markdown",
   "metadata": {},
   "source": [
    "# PR Curves"
   ]
  },
  {
   "cell_type": "code",
   "execution_count": null,
   "metadata": {},
   "outputs": [],
   "source": [
    "plt.figure(dpi=150)\n",
    "plt.plot(recall, precision);\n",
    "plt.xlabel('Recall'), plt.ylabel('Precision'); plt.title(config['id']);\n",
    "for t in config['plot_match_thresh']:\n",
    "    op_idx = np.min(np.where(distances > t))\n",
    "    plt.plot(recall[op_idx], precision[op_idx], marker='o', color='k', markersize=3)\n",
    "    plt.annotate(str(t), xy=(recall[op_idx], precision[op_idx]))"
   ]
  },
  {
   "cell_type": "code",
   "execution_count": 12,
   "metadata": {},
   "outputs": [
    {
     "data": {
      "image/png": "[encoded data removed]",
      "text/plain": [
       "<matplotlib.figure.Figure at 0x2b5cb09a53c8>"
      ]
     },
     "metadata": {
      "needs_background": "light"
     },
     "output_type": "display_data"
    }
   ],
   "source": []
  },
  {
   "cell_type": "code",
   "execution_count": 9,
   "metadata": {},
   "outputs": [
    {
     "data": {
      "image/png": "[encoded data removed]",
      "text/plain": [
       "<matplotlib.figure.Figure at 0x2b5d4a4a20b8>"
      ]
     },
     "metadata": {
      "needs_background": "light"
     },
     "output_type": "display_data"
    }
   ],
   "source": []
  },
  {
   "cell_type": "code",
   "execution_count": 6,
   "metadata": {},
   "outputs": [
    {
     "data": {
      "image/png": "[encoded data removed]",
      "text/plain": [
       "<matplotlib.figure.Figure at 0x2b5d73be84a8>"
      ]
     },
     "metadata": {
      "needs_background": "light"
     },
     "output_type": "display_data"
    }
   ],
   "source": []
  }
 ],
 "metadata": {
  "kernelspec": {
   "display_name": "Python 3",
   "language": "python",
   "name": "python3"
  },
  "language_info": {
   "codemirror_mode": {
    "name": "ipython",
    "version": 3
   },
   "file_extension": ".py",
   "mimetype": "text/x-python",
   "name": "python",
   "nbconvert_exporter": "python",
   "pygments_lexer": "ipython3",
   "version": "3.6.1"
  }
 },
 "nbformat": 4,
 "nbformat_minor": 2
}
